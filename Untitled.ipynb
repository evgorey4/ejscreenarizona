{
 "cells": [
  {
   "cell_type": "markdown",
   "metadata": {},
   "source": [
    "# Final Project - Explorative Analysis of Environmental Justice Screening Data & Arizona Census Tracts"
   ]
  },
  {
   "cell_type": "markdown",
   "metadata": {},
   "source": [
    "This project is meant to analyze correlations between prevalence/location of indigenous communities and environmental justice screening variables such as proximity to EPA Superfund sites, cancer risk, and more. There are 2 parts to this project:\n",
    "\n",
    "### 1. Exploratory analysis using Jupyter Notebook\n",
    "This includes testing for correlation between chosen variables and a Moran's I analysis. \n",
    "\n",
    "### 2. Produce an interactive web page showcasing the census tracts' information and relevant findings from the exploratory analysis\n",
    "This map will be created using MapBox and will be hosted on my github."
   ]
  },
  {
   "cell_type": "markdown",
   "metadata": {},
   "source": [
    "## Code"
   ]
  },
  {
   "cell_type": "markdown",
   "metadata": {},
   "source": [
    "1. Prepare the necessary Python modules. To follow our class's lab, I am using seaborn."
   ]
  },
  {
   "cell_type": "code",
   "execution_count": 1,
   "metadata": {},
   "outputs": [],
   "source": [
    "import seaborn\n",
    "import geopandas as gpd\n",
    "import pandas as pd\n",
    "from matplotlib import pyplot as plt\n",
    "from matplotlib.colors import Normalize\n",
    "from matplotlib import cm"
   ]
  },
  {
   "cell_type": "markdown",
   "metadata": {},
   "source": [
    "2. Prepare the data. This is a very large file (originally a .csv file that I converted into a geojson) and contains information on environmental screening data."
   ]
  },
  {
   "cell_type": "code",
   "execution_count": null,
   "metadata": {},
   "outputs": [],
   "source": []
  }
 ],
 "metadata": {
  "kernelspec": {
   "display_name": "Python 3",
   "language": "python",
   "name": "python3"
  },
  "language_info": {
   "codemirror_mode": {
    "name": "ipython",
    "version": 3
   },
   "file_extension": ".py",
   "mimetype": "text/x-python",
   "name": "python",
   "nbconvert_exporter": "python",
   "pygments_lexer": "ipython3",
   "version": "3.8.5"
  }
 },
 "nbformat": 4,
 "nbformat_minor": 4
}
